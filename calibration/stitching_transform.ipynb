{
 "cells": [
  {
   "cell_type": "code",
   "execution_count": 51,
   "id": "55464107-4422-4fce-8529-b2ee9395f6d9",
   "metadata": {},
   "outputs": [],
   "source": [
    "using LinearAlgebra"
   ]
  },
  {
   "cell_type": "code",
   "execution_count": 1,
   "id": "15b54c19-7b2a-4c80-8690-7eb97dcb0508",
   "metadata": {},
   "outputs": [
    {
     "data": {
      "text/plain": [
       "3×3 Matrix{Float64}:\n",
       " -0.6442  -0.00045  0.0\n",
       "  5.0e-5   0.64357  0.0\n",
       "  0.0      0.0      1.0"
      ]
     },
     "execution_count": 1,
     "metadata": {},
     "output_type": "execute_result"
    }
   ],
   "source": [
    "A = [-0.6442 -0.00045 0; 0.00005 0.64357 0; 0 0 1]"
   ]
  },
  {
   "cell_type": "code",
   "execution_count": 59,
   "id": "68445b76-4611-4ba0-ab90-0f398ba77618",
   "metadata": {},
   "outputs": [
    {
     "data": {
      "text/plain": [
       "3-element Vector{Int64}:\n",
       " 512\n",
       " 512\n",
       "   1"
      ]
     },
     "execution_count": 59,
     "metadata": {},
     "output_type": "execute_result"
    }
   ],
   "source": [
    "η1 = [512; 512; 1]"
   ]
  },
  {
   "cell_type": "code",
   "execution_count": 61,
   "id": "e4cf47f7-6264-4755-a8ea-b476c56017cc",
   "metadata": {},
   "outputs": [
    {
     "data": {
      "text/plain": [
       "3-element Vector{Float64}:\n",
       " -330.0608\n",
       "  329.53344\n",
       "    1.0"
      ]
     },
     "execution_count": 61,
     "metadata": {},
     "output_type": "execute_result"
    }
   ],
   "source": [
    "stage = A*η1"
   ]
  },
  {
   "cell_type": "code",
   "execution_count": 62,
   "id": "be18fadc-01e2-487c-bc68-a3bb61a17e1e",
   "metadata": {},
   "outputs": [
    {
     "data": {
      "text/plain": [
       "3-element Vector{Float64}:\n",
       " 512.0\n",
       " 512.0\n",
       "   1.0"
      ]
     },
     "execution_count": 62,
     "metadata": {},
     "output_type": "execute_result"
    }
   ],
   "source": [
    "inv(A)*stage"
   ]
  },
  {
   "cell_type": "code",
   "execution_count": 68,
   "id": "23b377a2-a58b-4677-9c5f-197ef9a19bd0",
   "metadata": {},
   "outputs": [
    {
     "data": {
      "text/plain": [
       "3×3 Matrix{Int64}:\n",
       " 1001    1  -502\n",
       " 1100  600   550\n",
       "    1    1     1"
      ]
     },
     "execution_count": 68,
     "metadata": {},
     "output_type": "execute_result"
    }
   ],
   "source": [
    "W = [3000; 2000; 1]\n",
    "C = [1000 0 -500; 1000 700 500; 1 1 1]\n",
    "Cₙ = [1001 1 -502; 1100 600 550; 1 1 1]"
   ]
  },
  {
   "cell_type": "code",
   "execution_count": 71,
   "id": "fcf38f65-6a39-4706-b27f-30867ec5a11b",
   "metadata": {},
   "outputs": [
    {
     "data": {
      "text/plain": [
       "3×3 Matrix{Float64}:\n",
       " 0.982         0.06   -41.0\n",
       " 1.7          -4.0   3400.0\n",
       " 8.67362e-19   0.0      1.0"
      ]
     },
     "execution_count": 71,
     "metadata": {},
     "output_type": "execute_result"
    }
   ],
   "source": [
    "B  = Cₙ*inv(C)"
   ]
  },
  {
   "cell_type": "code",
   "execution_count": 72,
   "id": "076c4470-be03-4129-9537-63a8a24bcfa5",
   "metadata": {},
   "outputs": [
    {
     "data": {
      "text/plain": [
       "3-element Vector{Float64}:\n",
       " 3025.0000000000055\n",
       "  500.00000000000455\n",
       "    1.0000000000000027"
      ]
     },
     "execution_count": 72,
     "metadata": {},
     "output_type": "execute_result"
    }
   ],
   "source": [
    "Wₙ = B * W"
   ]
  }
 ],
 "metadata": {
  "kernelspec": {
   "display_name": "Julia 1.9.4",
   "language": "julia",
   "name": "julia-1.9"
  },
  "language_info": {
   "file_extension": ".jl",
   "mimetype": "application/julia",
   "name": "julia",
   "version": "1.9.4"
  }
 },
 "nbformat": 4,
 "nbformat_minor": 5
}
