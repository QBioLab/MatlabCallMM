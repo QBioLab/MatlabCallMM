{
 "cells": [
  {
   "cell_type": "code",
   "execution_count": 36,
   "id": "bea3f3f2-da63-4dc2-a84b-40e8b953dac9",
   "metadata": {},
   "outputs": [],
   "source": [
    "filecenter_A384 = './20240317/assembled_plates/A384well_Scan_0317_4XAPO_Kinetix_Bf.mat';\n",
    "load(filecenter_A384,'four_corner_center0');\n",
    "well_center_xy_array_src = four_corner_center0;\n",
    "xy_translation=[0, 0];\n",
    "well_center_xy_array=ceil((well_center_xy_array_src + xy_translation));"
   ]
  },
  {
   "cell_type": "code",
   "execution_count": 28,
   "id": "063f7c33-440d-459a-9b77-616a420fc10a",
   "metadata": {},
   "outputs": [],
   "source": [
    "A384_well_list = [1:384];\n",
    "exclude_well_list = [1:24 25:24:384 48:24:384 362:383];\n",
    "picked_well_list = [];\n",
    "for i=A384_well_list\n",
    "    flag = 0;\n",
    "    for j=exclude\n",
    "        if i==j\n",
    "            flag = 1;\n",
    "            break;\n",
    "        end\n",
    "    end\n",
    "    if flag==0\n",
    "        picked_well_list = [picked_well_list i];\n",
    "    end\n",
    "end"
   ]
  },
  {
   "cell_type": "code",
   "execution_count": 46,
   "id": "809edade-533b-498b-b31c-dc152e393456",
   "metadata": {},
   "outputs": [],
   "source": [
    "%?\n",
    "load ('Kinitex_25_A384_10XAPO.mat','c','index_x','index_y');\n",
    "view_num_per_well=length(index_x);\n",
    "c(c==825)=825;\n",
    "c(c==-825)=-825;\n",
    "view_offset = c;"
   ]
  },
  {
   "cell_type": "code",
   "execution_count": 50,
   "id": "84cdbee6-3397-4003-a775-48a35d8b4a3c",
   "metadata": {},
   "outputs": [],
   "source": [
    "well_num=length(picked_well_list);\n",
    "% generate positions(view) for each well\n",
    "position_list = [];\n",
    "for well_count=1:well_num\n",
    "    well_idx=picked_well_list(well_count);\n",
    "    for view_idx=1:view_num_per_well\n",
    "            pos_x = well_center_xy_array(well_idx, 1) + view_offset(view_idx, 1);\n",
    "            pos_y = well_center_xy_array(well_idx, 2) + view_offset(view_idx, 2);\n",
    "  \n",
    "            % metainfo\n",
    "            position = struct();\n",
    "            position.id = (well_idx-1)*view_num_per_well + view_idx;\n",
    "            position.x_um = int32(pos_x);\n",
    "            position.y_um = int32(pos_y);\n",
    "            position.z_um = 5400; % reference value for A384\n",
    "            position.pfs = 0; % 0 to disable\n",
    "            position.name = sprintf(\"well%d_%d\", well_idx, view_idx);\n",
    "            position.well = well_idx;\n",
    "            position.ch = [\"test\"];\n",
    "            position_list = [position_list; position];\n",
    "    end\n",
    "end\n",
    "\n",
    "% confirm with for plates and objectives\n",
    "% correction for xy stage range\n",
    "% clearence for 10XAPO\n",
    "Ymin_um=-37500; Ymax_um=37500;\n",
    "Xmin_um=-57000; Xmax_um=57000;\n",
    "position_num = length(position_list);\n",
    "for idx=1:position_num\n",
    "    position = position_list(idx);\n",
    "    if position.y_um>Ymax_um\n",
    "        position.y_um = Ymax_um;\n",
    "    end\n",
    "    if position.y_um<Ymin_um\n",
    "        position.y_um = Ymin_um;\n",
    "    end\n",
    "    if position.x_um>Xmax_um\n",
    "        position.x_um = Xmax_um;\n",
    "    end\n",
    "    if position.x_um<Xmin_um\n",
    "        position.x_um = Xmin_um;\n",
    "    end\n",
    "end\n",
    "\n",
    " % Channel setting\n",
    " % Trigger command: \n",
    " % TRG1->385nm, TRG2->475nm, TRG3->550nm, TRG4->621nm, TRG0->ALL\n",
    " % em: '1-Empty', '2-DAPI', '3-FITC', '4-Texas Red','5-89000','6-Empty';\n",
    " chsetup(1).name='BF';\n",
    " chsetup(1).ex_port='';\n",
    " chsetup(1).ex_wavelength_nm='';\n",
    " chsetup(1).em='1-Empty'; \n",
    " chsetup(1).exposure=100;\n",
    " \n",
    " chsetup(2).name='BFP';\n",
    " chsetup(2).ex_port='1';\n",
    " chsetup(2).ex_wavelength_nm=385;\n",
    " chsetup(2).em='2-DAPI';\n",
    " chsetup(2).exposure=200;\n",
    " \n",
    " chsetup(3).name='GFP';\n",
    " chsetup(3).ex_port='2';\n",
    " chsetup(3).ex_wavelength_nm=475;\n",
    " chsetup(3).em='3-FITC';\n",
    " chsetup(3).exposure=100;\n",
    " \n",
    " chsetup(4).name='RFP';\n",
    " chsetup(4).ex_port='3';\n",
    " chsetup(4).ex_wavelength_nm=550;\n",
    " chsetup(4).em='4-Texas Red';\n",
    " chsetup(4).exposure=100;\n",
    " \n",
    " chsetup(5).name='4';\n",
    " chsetup(5).em='';\n",
    " chsetup(5).ex_port='4';\n",
    " chsetup(5).ex_wavelength_nm=621;\n",
    " chsetup(5).exposure=100;\n",
    " \n",
    " chsetup(6).em='6-Empty';"
   ]
  },
  {
   "cell_type": "code",
   "execution_count": 55,
   "id": "cbff6c37-fe6d-4ccc-9508-f946cc32d723",
   "metadata": {},
   "outputs": [
    {
     "data": {
      "image/png": "[encoded data removed]",
      "text/plain": [
       "<IPython.core.display.Image object>"
      ]
     },
     "metadata": {},
     "output_type": "display_data"
    }
   ],
   "source": [
    "% plot path\n",
    "position_num=length(position_list);\n",
    "xy_um = zeros(position_num, 2);\n",
    "for idx=1:position_num\n",
    "    xy_um(idx, 1) = position_list(idx).x_um;\n",
    "    xy_um(idx, 2) = position_list(idx).y_um;\n",
    "end\n",
    "plot(xy_um(:, 1), xy_um(:, 2))"
   ]
  },
  {
   "cell_type": "code",
   "execution_count": 12,
   "id": "432f5e3d-cab3-4205-be9c-f63c731b205c",
   "metadata": {},
   "outputs": [
    {
     "name": "stdout",
     "output_type": "stream",
     "text": [
      "ans = 0\n"
     ]
    }
   ],
   "source": [
    "output_info.sample_name = \"plate4-sto-mcherry-normal-medium\";\n",
    "%output_info.sample_name = \"plate1-sto-gfp-conditioned-medium\";\n",
    "%output_info.sample_name = \"plate2-sto-gfp-normal-medium\";\n",
    "%output_info.sample_name = \"plate3-sto-mcherry-conditioned-medium\";\n",
    "%output_info.data_dir = '//data.qblab.science/datahub/';\n",
    "output_info.project_dir = \"\";\n",
    "output_info.data_dir = ['E:/XJF/20240424/' output_info.sample_name];\n",
    "output_info.well_plate.npw = 4;\n",
    "output_info.well_plate.view = view_offset;\n",
    "output_info.well_plate.nwell = well_num;\n",
    "output_info.well_plate.well_center_xy_array = well_center_array;\n",
    "output_info.well_plate.well_list = filtered_well;\n",
    "output_info.chsetup = chsetup;\n",
    "output_info.chsetting = '';\n",
    "output_info.exposure_sequence = [200];\n",
    "output_info.channel_sequence = [3];\n",
    "output_info.position_list = position_list;\n",
    "W = 3200; H = 3200;\n",
    "W1=2720; H1=2720; Woffset=0.5*(W-W1)+1;Hoffset=0.5*(H-H1)+1;\n",
    "\n",
    "output_info.roi=[0, 0, W, H];#[x0, y0, width, height]\n",
    "output_json_file = fopen(\"plate4_20240424_rapid_scan_plate_A384_10x.json\", 'w');\n",
    "output_json = jsonencode(output_info, \"PrettyPrint\", true); # PrettyPrint only avaliable after matlab2021\n",
    "fprintf(output_json_file, output_json);\n",
    "fclose(output_json_file)"
   ]
  }
 ],
 "metadata": {
  "kernelspec": {
   "display_name": "Octave",
   "language": "octave",
   "name": "octave"
  },
  "language_info": {
   "file_extension": ".m",
   "help_links": [
    {
     "text": "GNU Octave",
     "url": "https://www.gnu.org/software/octave/support.html"
    },
    {
     "text": "Octave Kernel",
     "url": "https://github.com/Calysto/octave_kernel"
    },
    {
     "text": "MetaKernel Magics",
     "url": "https://metakernel.readthedocs.io/en/latest/source/README.html"
    }
   ],
   "mimetype": "text/x-octave",
   "name": "octave",
   "version": "8.4.0"
  }
 },
 "nbformat": 4,
 "nbformat_minor": 5
}
